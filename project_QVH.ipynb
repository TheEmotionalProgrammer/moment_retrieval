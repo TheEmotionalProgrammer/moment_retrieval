{
 "cells": [
  {
   "cell_type": "code",
   "execution_count": 54,
   "metadata": {},
   "outputs": [],
   "source": [
    "import json\n",
    "import pandas as pd\n",
    "import pyterrier as pt"
   ]
  },
  {
   "cell_type": "code",
   "execution_count": 55,
   "metadata": {},
   "outputs": [],
   "source": [
    "jsonl_path = \"text_data_QVH/highlight_train_release.jsonl\"\n",
    "subs_path = \"text_data_QVH/subs_train.jsonl\""
   ]
  },
  {
   "cell_type": "code",
   "execution_count": 56,
   "metadata": {},
   "outputs": [],
   "source": [
    "subtitles_dict = {}\n",
    "\n",
    "with open(subs_path, 'r') as subs_file:\n",
    "    for line in subs_file:\n",
    "        sub_data = json.loads(line)\n",
    "        triple = sub_data['vid'].split(\"_\")\n",
    "        name = triple[0:-2]\n",
    "        #turn the list name into a string\n",
    "        name = \"\".join(name)\n",
    "        if name not in subtitles_dict:\n",
    "            subtitles_dict[name] = [(float(triple[-2]) + sub_data[\"relevant_windows\"][0][0], float(triple[-2]) + sub_data[\"relevant_windows\"][0][1], sub_data['query'])]\n",
    "        else:\n",
    "            subtitles_dict[name].append((float(triple[-2]) + sub_data[\"relevant_windows\"][0][0], float(triple[-2]) + sub_data[\"relevant_windows\"][0][1], sub_data['query']))"
   ]
  },
  {
   "cell_type": "code",
   "execution_count": 58,
   "metadata": {},
   "outputs": [],
   "source": [
    "def parse_jsonl(jsonl_path):\n",
    "    queries_data = []\n",
    "    documents_data = []\n",
    "    query_rankings_data = []\n",
    "    with open(jsonl_path, 'r') as file:\n",
    "        for idx,line in enumerate(file):\n",
    "\n",
    "            # Load the JSON object from the line\n",
    "            data = json.loads(line)\n",
    "\n",
    "            triple = data[\"vid\"].split(\"_\")\n",
    "            document_name = triple[0:-2]\n",
    "            document_name = \"\".join(document_name)\n",
    "            start_time = float(triple[-2])\n",
    "            end_time = float(triple[-1])\n",
    "\n",
    "            if document_name not in subtitles_dict:\n",
    "                #print(\"Document not found in subtitles: \", document_name)\n",
    "                continue\n",
    "\n",
    "            queries_data.append({\"qid\" : data[\"qid\"], \"query\": data[\"query\"]})\n",
    "\n",
    "            all_scores = []\n",
    "            momentaneus_rank =[]\n",
    "            for id,relevant_window in enumerate(data[\"relevant_windows\"]):\n",
    "                ts = [start_time+relevant_window[0], start_time+relevant_window[1]]\n",
    "                subs = [sub for sub in subtitles_dict[document_name] if sub[0] <= ts[1] and ts[0] <= sub[1]]\n",
    "                documents_data.append({\"docno\" : str(idx) +\"_\"+str(ts[0]) + \"_\" + str(ts[1]), \"vid_name\" : document_name, \"ts\": ts, \"duration\": data[\"duration\"], \"subtitles\": [sub[2] for sub in subs]})\n",
    "                scores = [data[\"saliency_scores\"][i]  for i,clip_id in enumerate(data[\"relevant_clip_ids\"]) if clip_id*2 >= relevant_window[0] and clip_id*2 <= relevant_window[1]]\n",
    "                #each entry of scores is a triple of integers. Create a variable score which is the average of all the scores\n",
    "                score = 0 if len(scores) ==0 else sum(sum(scores[i]) for i in range(len(scores)))/(3*len(scores))\n",
    "\n",
    "                momentaneus_rank.append({\"qid\" : data[\"qid\"], \"query\": data[\"query\"] , \"docno\" : str(idx) +\"_\"+str(ts[0]) + \"_\" + str(ts[1]), \"score\": score, \"rank\":1})\n",
    "            \n",
    "            #adjust the rank of the momentaneus_rank based on the score\n",
    "            momentaneus_rank = sorted(momentaneus_rank, key=lambda x: x[\"score\"], reverse=True)\n",
    "            for i in range(len(momentaneus_rank)):\n",
    "                momentaneus_rank[i][\"rank\"] = i+1\n",
    "        \n",
    "            query_rankings_data.extend(momentaneus_rank)\n",
    "\n",
    "    return queries_data, documents_data, query_rankings_data"
   ]
  },
  {
   "cell_type": "code",
   "execution_count": 60,
   "metadata": {},
   "outputs": [],
   "source": [
    "queries_data, documents_data, query_rankings_data = parse_jsonl(jsonl_path)"
   ]
  },
  {
   "cell_type": "code",
   "execution_count": 61,
   "metadata": {},
   "outputs": [
    {
     "name": "stdout",
     "output_type": "stream",
     "text": [
      "Queries data:  5556\n",
      "Documents data:  9882\n",
      "Query rankings data:  9882\n"
     ]
    }
   ],
   "source": [
    "print(\"Queries data: \", len(queries_data))\n",
    "print(\"Documents data: \", len(documents_data))\n",
    "print(\"Query rankings data: \", len(query_rankings_data))\n",
    "\n",
    "train_query_set_df = pd.DataFrame(queries_data)\n",
    "train_documents_set_df = pd.DataFrame(documents_data)\n",
    "train_query_rankings_df = pd.DataFrame(query_rankings_data)"
   ]
  },
  {
   "cell_type": "code",
   "execution_count": 65,
   "metadata": {},
   "outputs": [
    {
     "name": "stdout",
     "output_type": "stream",
     "text": [
      "           docno     vid_name              ts  duration  \\\n",
      "0  0_432.0_442.0  j7rJstUseKg  [432.0, 442.0]       150   \n",
      "1  0_444.0_454.0  j7rJstUseKg  [444.0, 454.0]       150   \n",
      "2  0_456.0_466.0  j7rJstUseKg  [456.0, 466.0]       150   \n",
      "3  0_468.0_478.0  j7rJstUseKg  [468.0, 478.0]       150   \n",
      "4  0_480.0_490.0  j7rJstUseKg  [480.0, 490.0]       150   \n",
      "\n",
      "                                           subtitles  \\\n",
      "0  [patriots, can defend themselves from tyranny....   \n",
      "1  [would identify as Christian., Our laws are ba...   \n",
      "2  [My views on the religious beliefs of Christia...   \n",
      "3  [I think that their belief systems are in star...   \n",
      "4  [But I think Islam is terroristic in nature., ...   \n",
      "\n",
      "                                                text  \n",
      "0  patriots, can defend themselves from tyranny. ...  \n",
      "1  would identify as Christian. Our laws are base...  \n",
      "2  My views on the religious beliefs of Christian...  \n",
      "3  I think that their belief systems are in stark...  \n",
      "4  But I think Islam is terroristic in nature. An...  \n"
     ]
    }
   ],
   "source": [
    "print(train_documents_set_df.head())"
   ]
  },
  {
   "cell_type": "code",
   "execution_count": 63,
   "metadata": {},
   "outputs": [],
   "source": [
    "if not pt.started():\n",
    "    pt.init()"
   ]
  }
 ],
 "metadata": {
  "kernelspec": {
   "display_name": "base",
   "language": "python",
   "name": "python3"
  },
  "language_info": {
   "codemirror_mode": {
    "name": "ipython",
    "version": 3
   },
   "file_extension": ".py",
   "mimetype": "text/x-python",
   "name": "python",
   "nbconvert_exporter": "python",
   "pygments_lexer": "ipython3",
   "version": "3.9.7"
  },
  "orig_nbformat": 4
 },
 "nbformat": 4,
 "nbformat_minor": 2
}
