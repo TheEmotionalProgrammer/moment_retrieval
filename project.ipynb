{
 "cells": [
  {
   "cell_type": "code",
   "execution_count": 1,
   "metadata": {},
   "outputs": [],
   "source": [
    "import pandas as pd\n",
    "import json"
   ]
  },
  {
   "cell_type": "code",
   "execution_count": 2,
   "metadata": {},
   "outputs": [],
   "source": [
    "# Paths to JSONL files\n",
    "jsonl_train_path = './text_data/tvr_val_release.jsonl'\n",
    "jsonl_val_path = './text_data/tvr_val_release.jsonl'\n",
    "subs_path = './text_data/tvqa_preprocessed_subtitles.jsonl'"
   ]
  },
  {
   "cell_type": "code",
   "execution_count": 3,
   "metadata": {},
   "outputs": [],
   "source": [
    "# Load subtitles into a dictionary for quick access\n",
    "subtitles_dict = {}\n",
    "with open(subs_path, 'r') as subs_file:\n",
    "    for line in subs_file:\n",
    "        sub_data = json.loads(line)\n",
    "        subtitles_dict[sub_data['vid_name']] = sub_data['sub']"
   ]
  },
  {
   "cell_type": "code",
   "execution_count": 4,
   "metadata": {},
   "outputs": [],
   "source": [
    "# Function to find matching subtitles\n",
    "def find_matching_subtitles(vid_name, ts_range, subtitles_dict):\n",
    "    matching_subs = []\n",
    "    if vid_name in subtitles_dict:\n",
    "        for subtitle in subtitles_dict[vid_name]:\n",
    "            if (ts_range[0] <= subtitle['start'] <= ts_range[1]) or (ts_range[0] <= subtitle['end'] <= ts_range[1]):\n",
    "                matching_subs.append(subtitle['text'])\n",
    "    return matching_subs"
   ]
  },
  {
   "cell_type": "code",
   "execution_count": 5,
   "metadata": {},
   "outputs": [],
   "source": [
    "def parse_jsonl(jsonl_path):\n",
    "    # Initialize empty lists for your data\n",
    "    queries_data = []\n",
    "    documents_data = []\n",
    "    query_rankings_data = []\n",
    "\n",
    "    with open(jsonl_path, 'r') as file:\n",
    "        for idx, line in enumerate(file):\n",
    "            data = json.loads(line)\n",
    "            \n",
    "            # Extract data for the Query Set DataFrame\n",
    "            queries_data.append({'qid': data['desc_id'], 'query': data['desc']})\n",
    "            \n",
    "            # Find matching subtitles\n",
    "            matching_subs = find_matching_subtitles(data['vid_name'], data['ts'], subtitles_dict)\n",
    "            \n",
    "            # Extract data for the Documents Set DataFrame, including matching subtitles\n",
    "            documents_data.append({'docno': idx, 'vid_name': data['vid_name'], 'ts': data['ts'], \n",
    "                                'duration': data['duration'], 'type': data['type'], 'subtitles': matching_subs})\n",
    "            \n",
    "            # Extract data for the Query Rankings DataFrame\n",
    "            query_rankings_data.append({'qid': data[\"desc_id\"], 'query': data['desc'], 'docno': idx, 'rank': 1, 'score': 1.0})\n",
    "\n",
    "    return queries_data, documents_data, query_rankings_data"
   ]
  },
  {
   "cell_type": "code",
   "execution_count": 6,
   "metadata": {},
   "outputs": [],
   "source": [
    "train_queries_data, train_documents_data, train_query_rankings_data = parse_jsonl(jsonl_train_path)\n",
    "\n",
    "# Convert lists to DataFrames (training)\n",
    "train_query_set_df = pd.DataFrame(train_queries_data).set_index('qid')\n",
    "train_documents_set_df = pd.DataFrame(train_documents_data).set_index('docno')\n",
    "train_query_rankings_df = pd.DataFrame(train_query_rankings_data)\n",
    "\n",
    "val_queries_data, val_documents_data, val_query_rankings_data = parse_jsonl(jsonl_val_path)\n",
    "\n",
    "# Convert lists to DataFrames (validation)\n",
    "val_query_set_df = pd.DataFrame(val_queries_data).set_index('qid')\n",
    "val_documents_set_df = pd.DataFrame(val_documents_data).set_index('docno')\n",
    "val_query_rankings_df = pd.DataFrame(val_query_rankings_data)\n"
   ]
  },
  {
   "cell_type": "code",
   "execution_count": 7,
   "metadata": {},
   "outputs": [
    {
     "name": "stdout",
     "output_type": "stream",
     "text": [
      "                                                   query\n",
      "qid                                                     \n",
      "90200     Phoebe puts one of her ponytails in her mouth.\n",
      "94603          Monica tells Ross never knew he did that.\n",
      "89063  Cross explains why he's laying in the bed to B...\n",
      "88605  Penny looks confused and shakes her head while...\n",
      "90309  Brennan grabs Stark and lifts him up off of th...\n",
      "                           vid_name              ts  duration type  \\\n",
      "docno                                                                \n",
      "0      friends_s01e03_seg02_clip_19  [16.48, 33.87]     61.46    v   \n",
      "1      friends_s04e21_seg02_clip_18       [0, 2.29]     57.35   vt   \n",
      "2       castle_s06e12_seg02_clip_22    [0.46, 5.47]     91.19   vt   \n",
      "3              s02e14_seg02_clip_02  [35.54, 40.34]     64.02    v   \n",
      "4        house_s04e03_seg02_clip_04  [18.72, 26.48]     91.29    v   \n",
      "\n",
      "                                               subtitles  \n",
      "docno                                                     \n",
      "0      [ Phoebe : You let your guard down. You start ...  \n",
      "1                        [I can't believe you did that.]  \n",
      "2      [ Beckett : No, no. It's just that my blood su...  \n",
      "3      [ Sheldon : ...with Adamantium like Wolverine....  \n",
      "4      [Ready? Mmm-hmm.,  Brennan : One, two, three.,...  \n",
      "     qid                                              query  docno  rank  \\\n",
      "0  90200     Phoebe puts one of her ponytails in her mouth.      0     1   \n",
      "1  94603          Monica tells Ross never knew he did that.      1     1   \n",
      "2  89063  Cross explains why he's laying in the bed to B...      2     1   \n",
      "3  88605  Penny looks confused and shakes her head while...      3     1   \n",
      "4  90309  Brennan grabs Stark and lifts him up off of th...      4     1   \n",
      "\n",
      "   score  \n",
      "0    1.0  \n",
      "1    1.0  \n",
      "2    1.0  \n",
      "3    1.0  \n",
      "4    1.0  \n",
      "                                                   query\n",
      "qid                                                     \n",
      "90200     Phoebe puts one of her ponytails in her mouth.\n",
      "94603          Monica tells Ross never knew he did that.\n",
      "89063  Cross explains why he's laying in the bed to B...\n",
      "88605  Penny looks confused and shakes her head while...\n",
      "90309  Brennan grabs Stark and lifts him up off of th...\n",
      "                           vid_name              ts  duration type  \\\n",
      "docno                                                                \n",
      "0      friends_s01e03_seg02_clip_19  [16.48, 33.87]     61.46    v   \n",
      "1      friends_s04e21_seg02_clip_18       [0, 2.29]     57.35   vt   \n",
      "2       castle_s06e12_seg02_clip_22    [0.46, 5.47]     91.19   vt   \n",
      "3              s02e14_seg02_clip_02  [35.54, 40.34]     64.02    v   \n",
      "4        house_s04e03_seg02_clip_04  [18.72, 26.48]     91.29    v   \n",
      "\n",
      "                                               subtitles  \n",
      "docno                                                     \n",
      "0      [ Phoebe : You let your guard down. You start ...  \n",
      "1                        [I can't believe you did that.]  \n",
      "2      [ Beckett : No, no. It's just that my blood su...  \n",
      "3      [ Sheldon : ...with Adamantium like Wolverine....  \n",
      "4      [Ready? Mmm-hmm.,  Brennan : One, two, three.,...  \n",
      "     qid                                              query  docno  rank  \\\n",
      "0  90200     Phoebe puts one of her ponytails in her mouth.      0     1   \n",
      "1  94603          Monica tells Ross never knew he did that.      1     1   \n",
      "2  89063  Cross explains why he's laying in the bed to B...      2     1   \n",
      "3  88605  Penny looks confused and shakes her head while...      3     1   \n",
      "4  90309  Brennan grabs Stark and lifts him up off of th...      4     1   \n",
      "\n",
      "   score  \n",
      "0    1.0  \n",
      "1    1.0  \n",
      "2    1.0  \n",
      "3    1.0  \n",
      "4    1.0  \n"
     ]
    }
   ],
   "source": [
    "#print the head of the dataframes\n",
    "print(train_query_set_df.head())\n",
    "print(train_documents_set_df.head())\n",
    "print(train_query_rankings_df.head())\n",
    "\n",
    "print(val_query_set_df.head())\n",
    "print(val_documents_set_df.head())\n",
    "print(val_query_rankings_df.head())\n"
   ]
  }
 ],
 "metadata": {
  "kernelspec": {
   "display_name": "base",
   "language": "python",
   "name": "python3"
  },
  "language_info": {
   "codemirror_mode": {
    "name": "ipython",
    "version": 3
   },
   "file_extension": ".py",
   "mimetype": "text/x-python",
   "name": "python",
   "nbconvert_exporter": "python",
   "pygments_lexer": "ipython3",
   "version": "3.9.7"
  },
  "orig_nbformat": 4
 },
 "nbformat": 4,
 "nbformat_minor": 2
}
