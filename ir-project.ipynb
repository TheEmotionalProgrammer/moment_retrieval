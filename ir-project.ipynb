{
 "cells": [
  {
   "cell_type": "code",
   "execution_count": 43,
   "metadata": {
    "colab": {
     "base_uri": "https://localhost:8080/"
    },
    "execution": {
     "iopub.execute_input": "2024-03-29T22:14:10.827712Z",
     "iopub.status.busy": "2024-03-29T22:14:10.827209Z",
     "iopub.status.idle": "2024-03-29T22:14:10.833452Z",
     "shell.execute_reply": "2024-03-29T22:14:10.832185Z",
     "shell.execute_reply.started": "2024-03-29T22:14:10.827677Z"
    },
    "id": "EdYzrLhxMTlW",
    "outputId": "34f98e14-b479-4070-90ac-139dc7a222b2",
    "trusted": true
   },
   "outputs": [],
   "source": [
    "#from google.colab import drive\n",
    "#drive.mount('/content/drive')"
   ]
  },
  {
   "cell_type": "code",
   "execution_count": 44,
   "metadata": {
    "colab": {
     "base_uri": "https://localhost:8080/"
    },
    "execution": {
     "iopub.execute_input": "2024-03-29T22:14:10.842893Z",
     "iopub.status.busy": "2024-03-29T22:14:10.842457Z",
     "iopub.status.idle": "2024-03-29T22:14:23.581429Z",
     "shell.execute_reply": "2024-03-29T22:14:23.579906Z",
     "shell.execute_reply.started": "2024-03-29T22:14:10.842856Z"
    },
    "id": "3UmQotmJMUrs",
    "outputId": "b33cf819-d36d-4aad-a73a-d3ae37d66151",
    "trusted": true
   },
   "outputs": [],
   "source": [
    "# pip install python-terrier==0.10.0 nltk scikit-learn lightgbm xgboost fastrank\n",
    "# pip install pandas"
   ]
  },
  {
   "cell_type": "code",
   "execution_count": 45,
   "metadata": {
    "colab": {
     "base_uri": "https://localhost:8080/"
    },
    "execution": {
     "iopub.execute_input": "2024-03-29T22:14:23.585214Z",
     "iopub.status.busy": "2024-03-29T22:14:23.584670Z",
     "iopub.status.idle": "2024-03-29T22:14:23.591456Z",
     "shell.execute_reply": "2024-03-29T22:14:23.590126Z",
     "shell.execute_reply.started": "2024-03-29T22:14:23.585167Z"
    },
    "id": "sRDXt2WiBNih",
    "outputId": "d2940d6f-f8c6-4c02-ff38-44a62f187340",
    "trusted": true
   },
   "outputs": [],
   "source": [
    "# !pip install --upgrade git+https://github.com/Georgetown-IR-Lab/OpenNIR"
   ]
  },
  {
   "cell_type": "code",
   "execution_count": 46,
   "metadata": {
    "execution": {
     "iopub.execute_input": "2024-03-29T22:14:23.593381Z",
     "iopub.status.busy": "2024-03-29T22:14:23.593026Z",
     "iopub.status.idle": "2024-03-29T22:14:23.603136Z",
     "shell.execute_reply": "2024-03-29T22:14:23.602202Z",
     "shell.execute_reply.started": "2024-03-29T22:14:23.593352Z"
    },
    "id": "EYhewvEjL-7Y",
    "trusted": true
   },
   "outputs": [],
   "source": [
    "import pandas as pd\n",
    "import json\n",
    "import pyterrier as pt\n",
    "import random"
   ]
  },
  {
   "cell_type": "code",
   "execution_count": 47,
   "metadata": {
    "execution": {
     "iopub.execute_input": "2024-03-29T22:14:23.606925Z",
     "iopub.status.busy": "2024-03-29T22:14:23.606397Z",
     "iopub.status.idle": "2024-03-29T22:14:23.615843Z",
     "shell.execute_reply": "2024-03-29T22:14:23.614568Z",
     "shell.execute_reply.started": "2024-03-29T22:14:23.606878Z"
    },
    "id": "nKsBbMKjEepz",
    "trusted": true
   },
   "outputs": [],
   "source": [
    "#UNCOMMENT THE FOLLOWING LINE TO USE EITHER THE TVR DATASET OR THE QVH DATASET\n",
    "\n",
    "# dataset_choice = \"TVR\"\n",
    "dataset_choice = \"QVH\""
   ]
  },
  {
   "cell_type": "code",
   "execution_count": 48,
   "metadata": {
    "execution": {
     "iopub.execute_input": "2024-03-29T22:14:23.631290Z",
     "iopub.status.busy": "2024-03-29T22:14:23.630522Z",
     "iopub.status.idle": "2024-03-29T22:14:23.642651Z",
     "shell.execute_reply": "2024-03-29T22:14:23.641593Z",
     "shell.execute_reply.started": "2024-03-29T22:14:23.631255Z"
    },
    "id": "W17JgCyFL-7Z",
    "trusted": true
   },
   "outputs": [],
   "source": [
    "# Paths to JSONL files\n",
    "if dataset_choice == \"TVR\":\n",
    "    jsonl_train_path = 'text_data/tvr_train_release.jsonl'\n",
    "    jsonl_val_path = 'text_data/tvr_val_release.jsonl'\n",
    "    subs_path = 'text_data/tvqa_preprocessed_subtitles.jsonl'\n",
    "\n",
    "elif dataset_choice == \"QVH\":\n",
    "    jsonl_train_path = \"text_data_QVH/highlight_train_release.jsonl\"\n",
    "    subs_path = \"text_data_QVH/subs_train.jsonl\""
   ]
  },
  {
   "cell_type": "code",
   "execution_count": 49,
   "metadata": {
    "execution": {
     "iopub.execute_input": "2024-03-29T22:14:23.644660Z",
     "iopub.status.busy": "2024-03-29T22:14:23.644287Z",
     "iopub.status.idle": "2024-03-29T22:14:24.564856Z",
     "shell.execute_reply": "2024-03-29T22:14:24.563619Z",
     "shell.execute_reply.started": "2024-03-29T22:14:23.644632Z"
    },
    "id": "L6VZMDuDL-7Z",
    "trusted": true
   },
   "outputs": [],
   "source": [
    "# Load subtitles into a dictionary for quick access\n",
    "subtitles_dict = {}\n",
    "if dataset_choice == \"TVR\":\n",
    "    with open(subs_path, 'r') as subs_file:\n",
    "        for line in subs_file:\n",
    "            sub_data = json.loads(line)\n",
    "            subtitles_dict[sub_data['vid_name']] = sub_data['sub']\n",
    "elif dataset_choice == \"QVH\":\n",
    "    with open(subs_path, 'r') as subs_file:\n",
    "        for line in subs_file:\n",
    "            sub_data = json.loads(line)\n",
    "            triple = sub_data['vid'].split(\"_\")\n",
    "            name = sub_data['vid']\n",
    "            #turn the list name into a string\n",
    "            name = \"\".join(name)\n",
    "            if name not in subtitles_dict:\n",
    "                subtitles_dict[name] = [(float(triple[-2]) + sub_data[\"relevant_windows\"][0][0], float(triple[-2]) + sub_data[\"relevant_windows\"][0][1], sub_data['query'])]\n",
    "            else:\n",
    "                subtitles_dict[name].append((float(triple[-2]) + sub_data[\"relevant_windows\"][0][0], float(triple[-2]) + sub_data[\"relevant_windows\"][0][1], sub_data['query']))\n",
    "            \n",
    "            # print(subtitles_dict[name])"
   ]
  },
  {
   "cell_type": "code",
   "execution_count": 50,
   "metadata": {
    "execution": {
     "iopub.execute_input": "2024-03-29T22:14:24.567536Z",
     "iopub.status.busy": "2024-03-29T22:14:24.567036Z",
     "iopub.status.idle": "2024-03-29T22:14:24.574407Z",
     "shell.execute_reply": "2024-03-29T22:14:24.573302Z",
     "shell.execute_reply.started": "2024-03-29T22:14:24.567489Z"
    },
    "id": "UkWQOjjYL-7Z",
    "trusted": true
   },
   "outputs": [],
   "source": [
    "# Function to find matching subtitles in TVR case\n",
    "def find_matching_subtitles(vid_name, ts_range, subtitles_dict):\n",
    "    matching_subs = []\n",
    "    if vid_name in subtitles_dict:\n",
    "        for subtitle in subtitles_dict[vid_name]:\n",
    "            if (ts_range[0] <= subtitle['start'] <= ts_range[1]) or (ts_range[0] <= subtitle['end'] <= ts_range[1]) or (subtitle['start'] <= ts_range[0] and subtitle['end'] >= ts_range[1]):\n",
    "                matching_subs.append(subtitle['text'])\n",
    "    return matching_subs"
   ]
  },
  {
   "cell_type": "code",
   "execution_count": 51,
   "metadata": {
    "execution": {
     "iopub.execute_input": "2024-03-29T22:14:24.577308Z",
     "iopub.status.busy": "2024-03-29T22:14:24.576383Z",
     "iopub.status.idle": "2024-03-29T22:14:24.599642Z",
     "shell.execute_reply": "2024-03-29T22:14:24.598571Z",
     "shell.execute_reply.started": "2024-03-29T22:14:24.577274Z"
    },
    "id": "HDx8ntjxL-7a",
    "trusted": true
   },
   "outputs": [],
   "source": [
    "def parse_jsonl_TVR(jsonl_path, split_type):\n",
    "    # Initialize empty lists for your data\n",
    "    queries_data = []\n",
    "    documents_data = []\n",
    "    query_rankings_data = []\n",
    "\n",
    "    with open(jsonl_path, 'r') as file:\n",
    "        for idx, line in enumerate(file):\n",
    "            data = json.loads(line)\n",
    "            # drop non text-based queries\n",
    "            if data['type'] not in ['t']:   # t: text-based, vt: video-text-based -> You can choose here\n",
    "                continue\n",
    "\n",
    "            # Find matching subtitles\n",
    "            matching_subs = find_matching_subtitles(data['vid_name'], data['ts'], subtitles_dict)\n",
    "\n",
    "            if matching_subs == []:\n",
    "                continue\n",
    "\n",
    "            # Extract data for the Query Set DataFrame\n",
    "            queries_data.append({'qid': str(data['desc_id']), 'query': data['desc']})\n",
    "\n",
    "            # Extract data for the Documents Set DataFrame, including matching subtitles\n",
    "            documents_data.append({'docno': split_type + str(idx), 'vid_name': data['vid_name'], 'ts': data['ts'],\n",
    "                                'duration': data['duration'], 'type': data['type'], 'text': \"\".join(matching_subs)})\n",
    "\n",
    "            # Extract data for the Query Rankings DataFrame\n",
    "            query_rankings_data.append({'qid': str(data[\"desc_id\"]), 'query': data['desc'], 'docno': split_type + str(idx), 'rank': 1, 'score': 1.0})\n",
    "\n",
    "    return queries_data, documents_data, query_rankings_data\n",
    "\n",
    "def parse_jsonl_QVH(jsonl_path):\n",
    "    queries_data = []\n",
    "    documents_data = []\n",
    "    query_rankings_data = []\n",
    "    with open(jsonl_path, 'r') as file:\n",
    "        for idx,line in enumerate(file):\n",
    "\n",
    "            # Load the JSON object from the line\n",
    "            data = json.loads(line)\n",
    "\n",
    "            triple = data[\"vid\"].split(\"_\")\n",
    "            document_name = triple[0:-2]\n",
    "            document_name = data[\"vid\"]\n",
    "            start_time = float(triple[-2])\n",
    "            end_time = float(triple[-1])\n",
    "\n",
    "            if document_name not in subtitles_dict:\n",
    "                #print(\"Document not found in subtitles: \", document_name)\n",
    "                continue\n",
    "            \n",
    "            subs = []\n",
    "            for relevant_window in data[\"relevant_windows\"]:\n",
    "                ts = [start_time+relevant_window[0], start_time+relevant_window[1]]\n",
    "                subs.extend([sub for sub in subtitles_dict[document_name] if sub[0] <= ts[1] and ts[0] <= sub[1]])\n",
    "                if len(subs) == 0:\n",
    "                    #print(\"No subtitles found for \", document_name, \" at time \", ts)\n",
    "                    continue\n",
    "            \n",
    "            documents_data.append({\"docno\": str(idx), \"vid_name\": document_name, \"ts\": [start_time, end_time], \"duration\" : data[\"duration\"], \"text\": \" \".join([sub[2] for sub in subs])})\n",
    "            queries_data.append({\"qid\" : str(data[\"qid\"]), \"query\": data[\"query\"]})\n",
    "            query_rankings_data.append({\"qid\": str(data[\"qid\"]), \"query\": data[\"query\"], \"docno\": str(idx), \"rank\": 1, \"score\": 1.0})\n",
    "\n",
    "    return queries_data, documents_data, query_rankings_data\n",
    "\n",
    "          "
   ]
  },
  {
   "cell_type": "code",
   "execution_count": 52,
   "metadata": {
    "execution": {
     "iopub.execute_input": "2024-03-29T22:14:24.605156Z",
     "iopub.status.busy": "2024-03-29T22:14:24.604756Z",
     "iopub.status.idle": "2024-03-29T22:14:27.963265Z",
     "shell.execute_reply": "2024-03-29T22:14:27.962030Z",
     "shell.execute_reply.started": "2024-03-29T22:14:24.605125Z"
    },
    "id": "Ae33k1XsEep2",
    "trusted": true
   },
   "outputs": [],
   "source": [
    "\n",
    "if dataset_choice == \"TVR\":\n",
    "    queries_data_train, documents_data_train, query_rankings_data_train = parse_jsonl_TVR(jsonl_train_path, \"t\")\n",
    "    queries_data_val, documents_data_val, query_rankings_data_val = parse_jsonl_TVR(jsonl_val_path, \"v\")\n",
    "    #have to create a test set; to do it, extract a random 10% of the train set\n",
    "    random.seed(42)\n",
    "    query_rankings_data_test = random.sample(query_rankings_data_train, int(len(query_rankings_data_train)*0.1))\n",
    "    query_rankings_data_train = [query for query in query_rankings_data_train if query not in query_rankings_data_test]\n",
    "    queries_data_test = [query for query in queries_data_train if query[\"qid\"] in [query[\"qid\"] for query in query_rankings_data_test]]\n",
    "    queries_data_train = [query for query in queries_data_train if query not in queries_data_test]\n",
    "    documents_data_test = [doc for doc in documents_data_train if doc[\"docno\"] in [query[\"docno\"] for query in query_rankings_data_test]]\n",
    "    documents_data_train = [doc for doc in documents_data_train if doc not in documents_data_test]\n",
    "\n",
    "elif dataset_choice == \"QVH\":\n",
    "    queries_data_train, documents_data_train, query_rankings_data_train = parse_jsonl_QVH(jsonl_train_path)\n",
    "    #have to create a val set; to do it, extract a random 10% of the train set\n",
    "    random.seed(42)\n",
    "    query_rankings_data_val = random.sample(query_rankings_data_train, int(len(query_rankings_data_train)*0.1))\n",
    "    query_rankings_data_train = [query for query in query_rankings_data_train if query not in query_rankings_data_val]\n",
    "    queries_data_val = [query for query in queries_data_train if query[\"qid\"] in [query[\"qid\"] for query in query_rankings_data_val]]\n",
    "    queries_data_train = [query for query in queries_data_train if query not in queries_data_val]\n",
    "    documents_data_val = [doc for doc in documents_data_train if doc[\"docno\"] in [query[\"docno\"] for query in query_rankings_data_val]]\n",
    "    documents_data_train = [doc for doc in documents_data_train if doc not in documents_data_val]\n",
    "    #have to create a test set; to do it, extract a random 10% of the train set\n",
    "    random.seed(42)\n",
    "    query_rankings_data_test = random.sample(query_rankings_data_train, int(len(query_rankings_data_train)*0.1))\n",
    "    query_rankings_data_train = [query for query in query_rankings_data_train if query not in query_rankings_data_test]\n",
    "    queries_data_test = [query for query in queries_data_train if query[\"qid\"] in [query[\"qid\"] for query in query_rankings_data_test]]\n",
    "    queries_data_train = [query for query in queries_data_train if query not in queries_data_test]\n",
    "    documents_data_test = [doc for doc in documents_data_train if doc[\"docno\"] in [query[\"docno\"] for query in query_rankings_data_test]]\n",
    "    documents_data_train = [doc for doc in documents_data_train if doc not in documents_data_test]\n",
    "\n"
   ]
  },
  {
   "cell_type": "code",
   "execution_count": 53,
   "metadata": {
    "colab": {
     "base_uri": "https://localhost:8080/"
    },
    "execution": {
     "iopub.execute_input": "2024-03-29T22:14:27.965248Z",
     "iopub.status.busy": "2024-03-29T22:14:27.964774Z",
     "iopub.status.idle": "2024-03-29T22:14:28.031936Z",
     "shell.execute_reply": "2024-03-29T22:14:28.030835Z",
     "shell.execute_reply.started": "2024-03-29T22:14:27.965205Z"
    },
    "id": "ZTiDgmaqL-7a",
    "outputId": "b7e64317-7faf-47c4-e8a9-20be5a030ea7",
    "trusted": true
   },
   "outputs": [
    {
     "name": "stdout",
     "output_type": "stream",
     "text": [
      "Train set:\n",
      "Queries:  4445\n",
      "Documents:  4445\n",
      "Val set:\n",
      "Queries:  548\n",
      "Documents:  548\n",
      "Test set:\n",
      "Queries:  493\n",
      "Documents:  493\n",
      "Query Rankings:  5486\n"
     ]
    }
   ],
   "source": [
    "# Create DataFrames for the Query Set, Documents Set, and Query Rankings\n",
    "queries_train_df = pd.DataFrame(queries_data_train)\n",
    "documents_train_df = pd.DataFrame(documents_data_train)\n",
    "\n",
    "queries_val_df = pd.DataFrame(queries_data_val)\n",
    "documents_val_df = pd.DataFrame(documents_data_val)\n",
    "\n",
    "queries_test_df = pd.DataFrame(queries_data_test)\n",
    "documents_test_df = pd.DataFrame(documents_data_test)\n",
    "\n",
    "q_rels = pd.concat([pd.DataFrame(query_rankings_data_train), pd.DataFrame(query_rankings_data_val), pd.DataFrame(query_rankings_data_test)]).reset_index(drop=True)\n",
    "\n",
    "#print length of the dataframes\n",
    "print(\"Train set:\")\n",
    "print(\"Queries: \", len(queries_train_df))\n",
    "print(\"Documents: \", len(documents_train_df))\n",
    "\n",
    "print(\"Val set:\")\n",
    "print(\"Queries: \", len(queries_val_df))\n",
    "print(\"Documents: \", len(documents_val_df))\n",
    "\n",
    "print(\"Test set:\")\n",
    "print(\"Queries: \", len(queries_test_df))\n",
    "print(\"Documents: \", len(documents_test_df))\n",
    "\n",
    "print(\"Query Rankings: \", len(q_rels))\n",
    "\n"
   ]
  },
  {
   "cell_type": "markdown",
   "metadata": {
    "id": "NCaV5vcXL-7a"
   },
   "source": [
    "### First Stage Retrieval [TODO: BOX]\n",
    "The following part of the code will define three different first stage retrieval pipelines as an input for the trained model."
   ]
  },
  {
   "cell_type": "code",
   "execution_count": 54,
   "metadata": {
    "execution": {
     "iopub.execute_input": "2024-03-29T22:14:28.033785Z",
     "iopub.status.busy": "2024-03-29T22:14:28.033350Z",
     "iopub.status.idle": "2024-03-29T22:14:29.077658Z",
     "shell.execute_reply": "2024-03-29T22:14:29.076333Z",
     "shell.execute_reply.started": "2024-03-29T22:14:28.033747Z"
    },
    "id": "5-SsgPJwVMXw",
    "trusted": true
   },
   "outputs": [],
   "source": [
    "if not pt.started():\n",
    "    pt.init()"
   ]
  },
  {
   "cell_type": "code",
   "execution_count": 55,
   "metadata": {
    "execution": {
     "iopub.execute_input": "2024-03-29T22:14:29.080004Z",
     "iopub.status.busy": "2024-03-29T22:14:29.079579Z",
     "iopub.status.idle": "2024-03-29T22:14:29.087921Z",
     "shell.execute_reply": "2024-03-29T22:14:29.086652Z",
     "shell.execute_reply.started": "2024-03-29T22:14:29.079969Z"
    },
    "id": "Xx55BjIGfNNa",
    "trusted": true
   },
   "outputs": [],
   "source": [
    "# Create an index\n",
    "\n",
    "index_path = r\"c:\\Users\\chrys\\Documents\\CSE\\MASTERS\\Q3\\Information Retrieval\\moment_retrieval\\moment_retrieval\\index_path\"\n",
    "\n",
    "indexer = pt.IterDictIndexer(\n",
    "    index_path,\n",
    "    meta={\n",
    "        \"docno\": 64,\n",
    "        \"vid_name\": 64,\n",
    "        \"text\": 131072,\n",
    "    },\n",
    "    stemmer=\"porter\",\n",
    "    stopwords=\"terrier\",\n",
    "    overwrite=True,\n",
    "    type=pt.index.IndexingType.MEMORY,\n",
    ")"
   ]
  },
  {
   "cell_type": "code",
   "execution_count": 56,
   "metadata": {
    "colab": {
     "base_uri": "https://localhost:8080/"
    },
    "execution": {
     "iopub.execute_input": "2024-03-29T22:14:29.090038Z",
     "iopub.status.busy": "2024-03-29T22:14:29.089700Z",
     "iopub.status.idle": "2024-03-29T22:14:29.125988Z",
     "shell.execute_reply": "2024-03-29T22:14:29.124474Z",
     "shell.execute_reply.started": "2024-03-29T22:14:29.090009Z"
    },
    "id": "T1W-_BFDjpqS",
    "outputId": "657431e1-1296-4391-9ac1-113827b51bcd",
    "trusted": true
   },
   "outputs": [
    {
     "name": "stdout",
     "output_type": "stream",
     "text": [
      "Length:  5486\n"
     ]
    }
   ],
   "source": [
    "joint_documents_set_df = pd.concat([documents_train_df, documents_val_df, documents_test_df])\n",
    "\n",
    "print(\"Length: \", len(joint_documents_set_df))"
   ]
  },
  {
   "cell_type": "code",
   "execution_count": 57,
   "metadata": {
    "colab": {
     "base_uri": "https://localhost:8080/"
    },
    "execution": {
     "iopub.execute_input": "2024-03-29T22:14:29.128500Z",
     "iopub.status.busy": "2024-03-29T22:14:29.127642Z",
     "iopub.status.idle": "2024-03-29T22:14:34.388679Z",
     "shell.execute_reply": "2024-03-29T22:14:34.387370Z",
     "shell.execute_reply.started": "2024-03-29T22:14:29.128457Z"
    },
    "id": "R_PnpogfjpqS",
    "outputId": "6909ba8e-62af-4f78-da7d-59ce66637ba4",
    "trusted": true
   },
   "outputs": [],
   "source": [
    "indexed = indexer.index(\n",
    "    joint_documents_set_df.to_dict(orient=\"records\")\n",
    ")"
   ]
  },
  {
   "cell_type": "code",
   "execution_count": 58,
   "metadata": {},
   "outputs": [],
   "source": [
    "from pyterrier.measures import *\n",
    "\n",
    "n_r = 50  # Number of documents retrieved in the first stage\n",
    "\n",
    "first_stage_bm25 = pt.BatchRetrieve(\n",
    "    indexed,\n",
    "    wmodel=\"BM25\",\n",
    "    num_results=n_r,\n",
    "    metadata=[\"docno\", \"vid_name\", \"text\"]\n",
    ")\n",
    "\n",
    "# Initialize BatchRetrieve with the created index and specify LemurTF_IDF as the weighting model\n",
    "first_stage_lemurtfidf = pt.BatchRetrieve(\n",
    "    indexed,\n",
    "    wmodel=\"LemurTF_IDF\",\n",
    "    num_results=n_r,\n",
    "    metadata=[\"docno\", \"vid_name\", \"text\"]\n",
    ")\n",
    "\n",
    "first_stage_pl2 = pt.BatchRetrieve(\n",
    "    indexed,\n",
    "    wmodel=\"PL2\",\n",
    "    num_results=n_r,\n",
    "    metadata=[\"docno\", \"vid_name\", \"text\"]\n",
    ")\n",
    "\n",
    "first_stage_in_exp_b2 = pt.BatchRetrieve(\n",
    "    indexed,\n",
    "    wmodel=\"In_expB2\",\n",
    "    num_results=n_r,\n",
    "    metadata=[\"docno\", \"vid_name\", \"text\"]\n",
    ")\n",
    "\n",
    "### \n",
    "first_stage_retrieval_list = [first_stage_bm25, first_stage_pl2, first_stage_in_exp_b2] if dataset_choice == \"TVR\" else [first_stage_bm25, first_stage_lemurtfidf, first_stage_in_exp_b2]"
   ]
  },
  {
   "cell_type": "markdown",
   "metadata": {
    "id": "7vCeCMoUvedO"
   },
   "source": [
    "# Computing feature"
   ]
  },
  {
   "cell_type": "code",
   "execution_count": 59,
   "metadata": {
    "execution": {
     "iopub.execute_input": "2024-03-29T22:14:34.417286Z",
     "iopub.status.busy": "2024-03-29T22:14:34.416459Z",
     "iopub.status.idle": "2024-03-29T22:14:34.453743Z",
     "shell.execute_reply": "2024-03-29T22:14:34.452673Z",
     "shell.execute_reply.started": "2024-03-29T22:14:34.417244Z"
    },
    "id": "QTBZtHYLy_fH",
    "trusted": true
   },
   "outputs": [],
   "source": [
    "#We create features for the second stage using the first stage retrievers\n",
    "\n",
    "#TF-IDF based features\n",
    "lemur_tf_idf_retriever = pt.BatchRetrieve(indexed, wmodel=\"LemurTF_IDF\")  # LemurTF_IDF -> It is a TF-IDF based weighting model\n",
    "bm25_retriever = pt.BatchRetrieve(indexed, wmodel=\"BM25\")\n",
    "\n",
    "#Language model based features\n",
    "hiem_retriever = pt.BatchRetrieve(indexed, wmodel=\"Hiemstra_LM\")\n",
    "dirichlet_retriever = pt.BatchRetrieve(indexed, wmodel=\"DirichletLM\")\n",
    "\n",
    "#Divergence from randomness based features\n",
    "pl2_retriever = pt.BatchRetrieve(indexed, wmodel=\"PL2\")\n",
    "dlh_retriever = pt.BatchRetrieve(indexed, wmodel=\"DLH\")\n",
    "\n",
    "#Can add more!\n",
    "coordinate_match_retriever = pt.BatchRetrieve(indexed, wmodel=\"CoordinateMatch\")\n",
    "js_kls_retrieveer = pt.BatchRetrieve(indexed, wmodel=\"Js_KLs\")\n",
    "\n",
    "bm25_QE_retriever = pt.BatchRetrieve(indexed, wmodel=\"BM25\", controls={\"qe\": \"on\", \"qemodel\": \"Bo1\"})\n",
    "hiem_QE_retriever = pt.BatchRetrieve(indexed, wmodel=\"Hiemstra_LM\", controls={\"qe\": \"on\", \"qemodel\": \"Bo1\"})\n",
    "pl2_QE_retriever = pt.BatchRetrieve(indexed, wmodel=\"PL2\", controls={\"qe\": \"on\", \"qemodel\": \"Bo1\"})\n",
    "coordinate_match_QE_retriever = pt.BatchRetrieve(indexed, wmodel=\"CoordinateMatch\", controls={\"qe\": \"on\", \"qemodel\": \"Bo1\"})\n",
    "# 1. PL2 + DLH\n",
    "# 2. BM25 + Hiemstra_LM + PL2 + CoordinateMatch\n",
    "# 3. BM25 (QE) + HiemstraLM (QE) + PL2 (QE) + CoordinateMatch (QE)\n",
    "# 4. LemurTF_IDF + DirichletLM + DLH + Js_KLs\n",
    "feature_combinations = [ \n",
    "    (pl2_retriever ** dlh_retriever), \n",
    "    (bm25_retriever ** hiem_retriever ** pl2_retriever ** coordinate_match_retriever), \n",
    "    (bm25_QE_retriever ** hiem_QE_retriever ** pl2_QE_retriever ** coordinate_match_QE_retriever), \n",
    "    (lemur_tf_idf_retriever ** dirichlet_retriever ** dlh_retriever ** js_kls_retrieveer)\n",
    "]"
   ]
  },
  {
   "cell_type": "code",
   "execution_count": 60,
   "metadata": {
    "execution": {
     "iopub.execute_input": "2024-03-29T22:14:34.481665Z",
     "iopub.status.busy": "2024-03-29T22:14:34.480711Z",
     "iopub.status.idle": "2024-03-29T22:14:34.766290Z",
     "shell.execute_reply": "2024-03-29T22:14:34.765059Z",
     "shell.execute_reply.started": "2024-03-29T22:14:34.481621Z"
    },
    "id": "QE1WrfC8zJjm",
    "trusted": true
   },
   "outputs": [],
   "source": [
    "# Prepare the queries for the pipeline, remove special characters and extra spaces\n",
    "prepared_trainqueries = queries_train_df\n",
    "prepared_trainqueries['query'] = prepared_trainqueries['query'].str.replace('[\\'\"?!]', ' ', regex=True)\n",
    "prepared_trainqueries['query'] = prepared_trainqueries['query'].str.replace(r'[^\\w\\s]', ' ', regex=True)\n",
    "prepared_trainqueries['query'] = prepared_trainqueries['query'].str.replace(r'\\s+', ' ', regex=True).str.strip()\n",
    "\n",
    "prepared_train_qrels = pd.DataFrame(query_rankings_data_train)\n",
    "prepared_train_qrels['query'] = prepared_train_qrels['query'].str.replace('[\\'\"?!]', ' ', regex=True)\n",
    "prepared_train_qrels['query'] = prepared_train_qrels['query'].str.replace(r'[^\\w\\s]', ' ', regex=True)\n",
    "prepared_train_qrels['query'] = prepared_train_qrels['query'].str.replace(r'\\s+', ' ', regex=True).str.strip()\n",
    "\n",
    "prepared_train_qrels['label'] = prepared_train_qrels['score']\n",
    "\n",
    "prepared_train_qrels['label'] = prepared_train_qrels['label'].astype(int)\n",
    "\n",
    "prepared_val_qrels = pd.DataFrame(query_rankings_data_val)\n",
    "prepared_val_qrels['query'] = prepared_val_qrels['query'].str.replace('[\\'\"?!]', ' ', regex=True)\n",
    "prepared_val_qrels['query'] = prepared_val_qrels['query'].str.replace(r'[^\\w\\s]', ' ', regex=True)\n",
    "prepared_val_qrels['query'] = prepared_val_qrels['query'].str.replace(r'\\s+', ' ', regex=True).str.strip()\n",
    "\n",
    "prepared_val_qrels['label'] = prepared_val_qrels['score']\n",
    "\n",
    "prepared_val_qrels['label'] = prepared_val_qrels['label'].astype(int)\n",
    "\n",
    "prepared_test_qrels = pd.DataFrame(query_rankings_data_test)\n",
    "prepared_test_qrels['query'] = prepared_test_qrels['query'].str.replace('[\\'\"?!]', ' ', regex=True)\n",
    "prepared_test_qrels['query'] = prepared_test_qrels['query'].str.replace(r'[^\\w\\s]', ' ', regex=True)\n",
    "prepared_test_qrels['query'] = prepared_test_qrels['query'].str.replace(r'\\s+', ' ', regex=True).str.strip()\n",
    "\n",
    "prepared_test_qrels['label'] = prepared_test_qrels['score']\n",
    "\n",
    "prepared_test_qrels['label'] = prepared_test_qrels['label'].astype(int)\n",
    "\n",
    "prepared_qrels = q_rels\n",
    "prepared_qrels['query'] = prepared_qrels['query'].str.replace('[\\'\"?!]', ' ', regex=True)\n",
    "prepared_qrels['query'] = prepared_qrels['query'].str.replace(r'[^\\w\\s]', ' ', regex=True)\n",
    "prepared_qrels['query'] = prepared_qrels['query'].str.replace(r'\\s+', ' ', regex=True).str.strip()\n",
    "\n",
    "prepared_qrels['label'] = prepared_qrels['score']\n",
    "\n",
    "prepared_qrels['label'] = prepared_qrels['label'].astype(int)\n",
    "\n",
    "prepared_valqueries = queries_val_df.reset_index()\n",
    "prepared_valqueries['query'] = prepared_valqueries['query'].str.replace('[\\'\"?!]', ' ', regex=True)\n",
    "prepared_valqueries['query'] = prepared_valqueries['query'].str.replace(r'[^\\w\\s]', ' ', regex=True)\n",
    "\n",
    "prepared_valqueries['query'] = prepared_valqueries['query'].str.replace(r'\\s+', ' ', regex=True).str.strip()\n",
    "\n",
    "#test set\n",
    "prepared_testqueries = queries_test_df.reset_index()\n",
    "prepared_testqueries['query'] = prepared_testqueries['query'].str.replace('[\\'\"?!]', ' ', regex=True)\n",
    "prepared_testqueries['query'] = prepared_testqueries['query'].str.replace(r'[^\\w\\s]', ' ', regex=True)\n",
    "prepared_testqueries['query'] = prepared_testqueries['query'].str.replace(r'\\s+', ' ', regex=True).str.strip()\n"
   ]
  },
  {
   "cell_type": "markdown",
   "metadata": {
    "id": "xLeXGDj8rGcx"
   },
   "source": [
    "Storage format: .csv or trec\n",
    "\n",
    "trec(https://pyterrier.readthedocs.io/en/latest/io.html): The pt io format, but it doesn't contain feature."
   ]
  },
  {
   "cell_type": "code",
   "execution_count": 61,
   "metadata": {
    "execution": {
     "iopub.execute_input": "2024-03-29T22:28:25.553433Z",
     "iopub.status.busy": "2024-03-29T22:28:25.552115Z",
     "iopub.status.idle": "2024-03-29T22:28:25.562847Z",
     "shell.execute_reply": "2024-03-29T22:28:25.561863Z",
     "shell.execute_reply.started": "2024-03-29T22:28:25.553367Z"
    },
    "id": "RGv0tMvLEep6",
    "trusted": true
   },
   "outputs": [],
   "source": [
    "from sklearn.svm import LinearSVR\n",
    "import xgboost as xgb\n",
    "import fastrank\n",
    "from pyterrier.measures import *\n",
    "\n",
    "index = pt.IndexFactory.of(r\"c:\\Users\\chrys\\Documents\\CSE\\MASTERS\\Q3\\Information Retrieval\\moment_retrieval\\moment_retrieval\\index_path\")\n",
    "\n",
    "learned_models = [\n",
    "    {\n",
    "        'model': LinearSVR(),\n",
    "        'form': 'reg',\n",
    "        'name': 'linearSVR',\n",
    "    },\n",
    "    {\n",
    "       'model': xgb.XGBRanker(tree_method=\"hist\", objective=\"rank:ndcg\", device= \"cuda\"),\n",
    "       'form': 'ltr',\n",
    "       'name': 'XGBoost (NDCG)',\n",
    "    },\n",
    "    {\n",
    "       'model': fastrank.TrainRequest.coordinate_ascent(),\n",
    "       'form': 'fastrank',\n",
    "       'name': 'FastRank Coordinate Ascent',\n",
    "    },\n",
    "    {\n",
    "       'model': fastrank.TrainRequest.random_forest(),\n",
    "       'form': 'fastrank',\n",
    "       'name': 'FastRank Random Forest',\n",
    "    }\n",
    "  ]\n",
    "\n",
    "eval_metrics = [   # MRT -> Mean Response Time -> Take that for 10 configurations\n",
    "    MAP, MRR,\n",
    "    nDCG @ 1, nDCG @ 3, nDCG @ 5, nDCG @ 10,\n",
    "    nDCG @ 20, nDCG @ 30, nDCG @ 50,\n",
    "    Recall @ 1, Recall @ 3, Recall @ 5, Recall @ 10,\n",
    "    Recall @ 20, Recall @ 30, Recall @ 50,\n",
    "]"
   ]
  },
  {
   "cell_type": "code",
   "execution_count": 69,
   "metadata": {
    "colab": {
     "base_uri": "https://localhost:8080/"
    },
    "execution": {
     "iopub.execute_input": "2024-03-29T22:28:26.413060Z",
     "iopub.status.busy": "2024-03-29T22:28:26.412653Z",
     "iopub.status.idle": "2024-03-29T22:33:09.324373Z",
     "shell.execute_reply": "2024-03-29T22:33:09.323179Z",
     "shell.execute_reply.started": "2024-03-29T22:28:26.413029Z"
    },
    "id": "lOrma3FeEep6",
    "outputId": "c89521e4-6c24-4e33-e240-33abc9817088",
    "trusted": true
   },
   "outputs": [
    {
     "name": "stdout",
     "output_type": "stream",
     "text": [
      "Dataset choice:  QVH\n",
      "Length of feature_combinations: 4\n",
      "Name of configuration:  BM25_0_linearSVR\n",
      "Lenght of the train queries:  4445\n",
      "Lenght of the train qrels:  4445\n",
      "Lenght of the val queries:  548\n",
      "Lenght of the val qrels:  548\n",
      "11:27:51.948 [main] WARN org.terrier.querying.SimpleDecorate - Problem performing decoration\n",
      "java.lang.IndexOutOfBoundsException: Index 5557 out of bounds for length 5486\n",
      "\tat java.base/jdk.internal.util.Preconditions.outOfBounds(Preconditions.java:64)\n",
      "\tat java.base/jdk.internal.util.Preconditions.outOfBoundsCheckIndex(Preconditions.java:70)\n",
      "\tat java.base/jdk.internal.util.Preconditions.checkIndex(Preconditions.java:266)\n",
      "\tat java.base/java.util.Objects.checkIndex(Objects.java:359)\n",
      "\tat java.base/java.util.ArrayList.get(ArrayList.java:427)\n",
      "\tat org.terrier.realtime.memory.MemoryMetaIndex.getItems(MemoryMetaIndex.java:162)\n",
      "\tat org.terrier.querying.SimpleDecorate.filter(SimpleDecorate.java:61)\n",
      "\tat org.terrier.querying.LocalManager$PostFilterProcess.process(LocalManager.java:811)\n",
      "\tat org.terrier.querying.LocalManager.runSearchRequest(LocalManager.java:895)\n",
      "11:27:51.952 [main] WARN org.terrier.querying.SimpleDecorate - Problem performing decoration\n",
      "java.lang.IndexOutOfBoundsException: Index 5635 out of bounds for length 5486\n",
      "\tat java.base/jdk.internal.util.Preconditions.outOfBounds(Preconditions.java:64)\n",
      "\tat java.base/jdk.internal.util.Preconditions.outOfBoundsCheckIndex(Preconditions.java:70)\n",
      "\tat java.base/jdk.internal.util.Preconditions.checkIndex(Preconditions.java:266)\n",
      "\tat java.base/java.util.Objects.checkIndex(Objects.java:359)\n",
      "\tat java.base/java.util.ArrayList.get(ArrayList.java:427)\n",
      "\tat org.terrier.realtime.memory.MemoryMetaIndex.getItems(MemoryMetaIndex.java:162)\n",
      "\tat org.terrier.querying.SimpleDecorate.filter(SimpleDecorate.java:61)\n",
      "\tat org.terrier.querying.LocalManager$PostFilterProcess.process(LocalManager.java:811)\n",
      "\tat org.terrier.querying.LocalManager.runSearchRequest(LocalManager.java:895)\n",
      "11:27:51.955 [main] WARN org.terrier.querying.SimpleDecorate - Problem performing decoration\n",
      "java.lang.IndexOutOfBoundsException: Index 5695 out of bounds for length 5486\n",
      "\tat java.base/jdk.internal.util.Preconditions.outOfBounds(Preconditions.java:64)\n",
      "\tat java.base/jdk.internal.util.Preconditions.outOfBoundsCheckIndex(Preconditions.java:70)\n",
      "\tat java.base/jdk.internal.util.Preconditions.checkIndex(Preconditions.java:266)\n",
      "\tat java.base/java.util.Objects.checkIndex(Objects.java:359)\n",
      "\tat java.base/java.util.ArrayList.get(ArrayList.java:427)\n",
      "\tat org.terrier.realtime.memory.MemoryMetaIndex.getItems(MemoryMetaIndex.java:162)\n",
      "\tat org.terrier.querying.SimpleDecorate.filter(SimpleDecorate.java:61)\n",
      "\tat org.terrier.querying.LocalManager$PostFilterProcess.process(LocalManager.java:811)\n",
      "\tat org.terrier.querying.LocalManager.runSearchRequest(LocalManager.java:895)\n",
      "11:27:51.959 [main] WARN org.terrier.querying.SimpleDecorate - Problem performing decoration\n",
      "java.lang.IndexOutOfBoundsException: Index 5807 out of bounds for length 5486\n",
      "\tat java.base/jdk.internal.util.Preconditions.outOfBounds(Preconditions.java:64)\n",
      "\tat java.base/jdk.internal.util.Preconditions.outOfBoundsCheckIndex(Preconditions.java:70)\n",
      "\tat java.base/jdk.internal.util.Preconditions.checkIndex(Preconditions.java:266)\n",
      "\tat java.base/java.util.Objects.checkIndex(Objects.java:359)\n",
      "\tat java.base/java.util.ArrayList.get(ArrayList.java:427)\n",
      "\tat org.terrier.realtime.memory.MemoryMetaIndex.getItems(MemoryMetaIndex.java:162)\n",
      "\tat org.terrier.querying.SimpleDecorate.filter(SimpleDecorate.java:61)\n",
      "\tat org.terrier.querying.LocalManager$PostFilterProcess.process(LocalManager.java:811)\n",
      "\tat org.terrier.querying.LocalManager.runSearchRequest(LocalManager.java:895)\n",
      "11:27:51.962 [main] WARN org.terrier.querying.SimpleDecorate - Problem performing decoration\n",
      "java.lang.IndexOutOfBoundsException: Index 5906 out of bounds for length 5486\n",
      "\tat java.base/jdk.internal.util.Preconditions.outOfBounds(Preconditions.java:64)\n",
      "\tat java.base/jdk.internal.util.Preconditions.outOfBoundsCheckIndex(Preconditions.java:70)\n",
      "\tat java.base/jdk.internal.util.Preconditions.checkIndex(Preconditions.java:266)\n",
      "\tat java.base/java.util.Objects.checkIndex(Objects.java:359)\n",
      "\tat java.base/java.util.ArrayList.get(ArrayList.java:427)\n",
      "\tat org.terrier.realtime.memory.MemoryMetaIndex.getItems(MemoryMetaIndex.java:162)\n",
      "\tat org.terrier.querying.SimpleDecorate.filter(SimpleDecorate.java:61)\n",
      "\tat org.terrier.querying.LocalManager$PostFilterProcess.process(LocalManager.java:811)\n",
      "\tat org.terrier.querying.LocalManager.runSearchRequest(LocalManager.java:895)\n",
      "11:27:51.966 [main] WARN org.terrier.querying.SimpleDecorate - Problem performing decoration\n",
      "java.lang.IndexOutOfBoundsException: Index 6042 out of bounds for length 5486\n",
      "\tat java.base/jdk.internal.util.Preconditions.outOfBounds(Preconditions.java:64)\n",
      "\tat java.base/jdk.internal.util.Preconditions.outOfBoundsCheckIndex(Preconditions.java:70)\n",
      "\tat java.base/jdk.internal.util.Preconditions.checkIndex(Preconditions.java:266)\n",
      "\tat java.base/java.util.Objects.checkIndex(Objects.java:359)\n",
      "\tat java.base/java.util.ArrayList.get(ArrayList.java:427)\n",
      "\tat org.terrier.realtime.memory.MemoryMetaIndex.getItems(MemoryMetaIndex.java:162)\n",
      "\tat org.terrier.querying.SimpleDecorate.filter(SimpleDecorate.java:61)\n",
      "\tat org.terrier.querying.LocalManager$PostFilterProcess.process(LocalManager.java:811)\n",
      "\tat org.terrier.querying.LocalManager.runSearchRequest(LocalManager.java:895)\n",
      "11:27:51.971 [main] WARN org.terrier.querying.SimpleDecorate - Problem performing decoration\n",
      "java.lang.IndexOutOfBoundsException: Index 6259 out of bounds for length 5486\n",
      "\tat java.base/jdk.internal.util.Preconditions.outOfBounds(Preconditions.java:64)\n",
      "\tat java.base/jdk.internal.util.Preconditions.outOfBoundsCheckIndex(Preconditions.java:70)\n",
      "\tat java.base/jdk.internal.util.Preconditions.checkIndex(Preconditions.java:266)\n",
      "\tat java.base/java.util.Objects.checkIndex(Objects.java:359)\n",
      "\tat java.base/java.util.ArrayList.get(ArrayList.java:427)\n",
      "\tat org.terrier.realtime.memory.MemoryMetaIndex.getItems(MemoryMetaIndex.java:162)\n",
      "\tat org.terrier.querying.SimpleDecorate.filter(SimpleDecorate.java:61)\n",
      "\tat org.terrier.querying.LocalManager$PostFilterProcess.process(LocalManager.java:811)\n",
      "\tat org.terrier.querying.LocalManager.runSearchRequest(LocalManager.java:895)\n",
      "11:27:51.975 [main] WARN org.terrier.querying.SimpleDecorate - Problem performing decoration\n",
      "java.lang.IndexOutOfBoundsException: Index 6268 out of bounds for length 5486\n",
      "\tat java.base/jdk.internal.util.Preconditions.outOfBounds(Preconditions.java:64)\n",
      "\tat java.base/jdk.internal.util.Preconditions.outOfBoundsCheckIndex(Preconditions.java:70)\n",
      "\tat java.base/jdk.internal.util.Preconditions.checkIndex(Preconditions.java:266)\n",
      "\tat java.base/java.util.Objects.checkIndex(Objects.java:359)\n",
      "\tat java.base/java.util.ArrayList.get(ArrayList.java:427)\n",
      "\tat org.terrier.realtime.memory.MemoryMetaIndex.getItems(MemoryMetaIndex.java:162)\n",
      "\tat org.terrier.querying.SimpleDecorate.filter(SimpleDecorate.java:61)\n",
      "\tat org.terrier.querying.LocalManager$PostFilterProcess.process(LocalManager.java:811)\n",
      "\tat org.terrier.querying.LocalManager.runSearchRequest(LocalManager.java:895)\n",
      "11:27:51.979 [main] WARN org.terrier.querying.SimpleDecorate - Problem performing decoration\n",
      "java.lang.IndexOutOfBoundsException: Index 6846 out of bounds for length 5486\n",
      "\tat java.base/jdk.internal.util.Preconditions.outOfBounds(Preconditions.java:64)\n",
      "\tat java.base/jdk.internal.util.Preconditions.outOfBoundsCheckIndex(Preconditions.java:70)\n",
      "\tat java.base/jdk.internal.util.Preconditions.checkIndex(Preconditions.java:266)\n",
      "\tat java.base/java.util.Objects.checkIndex(Objects.java:359)\n",
      "\tat java.base/java.util.ArrayList.get(ArrayList.java:427)\n",
      "\tat org.terrier.realtime.memory.MemoryMetaIndex.getItems(MemoryMetaIndex.java:162)\n",
      "\tat org.terrier.querying.SimpleDecorate.filter(SimpleDecorate.java:61)\n",
      "\tat org.terrier.querying.LocalManager$PostFilterProcess.process(LocalManager.java:811)\n",
      "\tat org.terrier.querying.LocalManager.runSearchRequest(LocalManager.java:895)\n",
      "11:27:51.983 [main] WARN org.terrier.querying.SimpleDecorate - Problem performing decoration\n",
      "java.lang.IndexOutOfBoundsException: Index 7251 out of bounds for length 5486\n",
      "\tat java.base/jdk.internal.util.Preconditions.outOfBounds(Preconditions.java:64)\n",
      "\tat java.base/jdk.internal.util.Preconditions.outOfBoundsCheckIndex(Preconditions.java:70)\n",
      "\tat java.base/jdk.internal.util.Preconditions.checkIndex(Preconditions.java:266)\n",
      "\tat java.base/java.util.Objects.checkIndex(Objects.java:359)\n",
      "\tat java.base/java.util.ArrayList.get(ArrayList.java:427)\n",
      "\tat org.terrier.realtime.memory.MemoryMetaIndex.getItems(MemoryMetaIndex.java:162)\n",
      "\tat org.terrier.querying.SimpleDecorate.filter(SimpleDecorate.java:61)\n",
      "\tat org.terrier.querying.LocalManager$PostFilterProcess.process(LocalManager.java:811)\n",
      "\tat org.terrier.querying.LocalManager.runSearchRequest(LocalManager.java:895)\n",
      "11:27:51.986 [main] WARN org.terrier.querying.SimpleDecorate - Problem performing decoration\n",
      "java.lang.IndexOutOfBoundsException: Index 7361 out of bounds for length 5486\n",
      "\tat java.base/jdk.internal.util.Preconditions.outOfBounds(Preconditions.java:64)\n",
      "\tat java.base/jdk.internal.util.Preconditions.outOfBoundsCheckIndex(Preconditions.java:70)\n",
      "\tat java.base/jdk.internal.util.Preconditions.checkIndex(Preconditions.java:266)\n",
      "\tat java.base/java.util.Objects.checkIndex(Objects.java:359)\n",
      "\tat java.base/java.util.ArrayList.get(ArrayList.java:427)\n",
      "\tat org.terrier.realtime.memory.MemoryMetaIndex.getItems(MemoryMetaIndex.java:162)\n",
      "\tat org.terrier.querying.SimpleDecorate.filter(SimpleDecorate.java:61)\n",
      "\tat org.terrier.querying.LocalManager$PostFilterProcess.process(LocalManager.java:811)\n",
      "\tat org.terrier.querying.LocalManager.runSearchRequest(LocalManager.java:895)\n",
      "11:27:51.992 [main] WARN org.terrier.querying.SimpleDecorate - Problem performing decoration\n",
      "java.lang.IndexOutOfBoundsException: Index 7533 out of bounds for length 5486\n",
      "\tat java.base/jdk.internal.util.Preconditions.outOfBounds(Preconditions.java:64)\n",
      "\tat java.base/jdk.internal.util.Preconditions.outOfBoundsCheckIndex(Preconditions.java:70)\n",
      "\tat java.base/jdk.internal.util.Preconditions.checkIndex(Preconditions.java:266)\n",
      "\tat java.base/java.util.Objects.checkIndex(Objects.java:359)\n",
      "\tat java.base/java.util.ArrayList.get(ArrayList.java:427)\n",
      "\tat org.terrier.realtime.memory.MemoryMetaIndex.getItems(MemoryMetaIndex.java:162)\n",
      "\tat org.terrier.querying.SimpleDecorate.filter(SimpleDecorate.java:61)\n",
      "\tat org.terrier.querying.LocalManager$PostFilterProcess.process(LocalManager.java:811)\n",
      "\tat org.terrier.querying.LocalManager.runSearchRequest(LocalManager.java:895)\n",
      "11:27:51.996 [main] WARN org.terrier.querying.SimpleDecorate - Problem performing decoration\n",
      "java.lang.IndexOutOfBoundsException: Index 7797 out of bounds for length 5486\n",
      "\tat java.base/jdk.internal.util.Preconditions.outOfBounds(Preconditions.java:64)\n",
      "\tat java.base/jdk.internal.util.Preconditions.outOfBoundsCheckIndex(Preconditions.java:70)\n",
      "\tat java.base/jdk.internal.util.Preconditions.checkIndex(Preconditions.java:266)\n",
      "\tat java.base/java.util.Objects.checkIndex(Objects.java:359)\n",
      "\tat java.base/java.util.ArrayList.get(ArrayList.java:427)\n",
      "\tat org.terrier.realtime.memory.MemoryMetaIndex.getItems(MemoryMetaIndex.java:162)\n",
      "\tat org.terrier.querying.SimpleDecorate.filter(SimpleDecorate.java:61)\n",
      "\tat org.terrier.querying.LocalManager$PostFilterProcess.process(LocalManager.java:811)\n",
      "\tat org.terrier.querying.LocalManager.runSearchRequest(LocalManager.java:895)\n",
      "11:27:52.000 [main] WARN org.terrier.querying.SimpleDecorate - Problem performing decoration\n",
      "java.lang.IndexOutOfBoundsException: Index 8315 out of bounds for length 5486\n",
      "\tat java.base/jdk.internal.util.Preconditions.outOfBounds(Preconditions.java:64)\n",
      "\tat java.base/jdk.internal.util.Preconditions.outOfBoundsCheckIndex(Preconditions.java:70)\n",
      "\tat java.base/jdk.internal.util.Preconditions.checkIndex(Preconditions.java:266)\n",
      "\tat java.base/java.util.Objects.checkIndex(Objects.java:359)\n",
      "\tat java.base/java.util.ArrayList.get(ArrayList.java:427)\n",
      "\tat org.terrier.realtime.memory.MemoryMetaIndex.getItems(MemoryMetaIndex.java:162)\n",
      "\tat org.terrier.querying.SimpleDecorate.filter(SimpleDecorate.java:61)\n",
      "\tat org.terrier.querying.LocalManager$PostFilterProcess.process(LocalManager.java:811)\n",
      "\tat org.terrier.querying.LocalManager.runSearchRequest(LocalManager.java:895)\n",
      "11:27:52.004 [main] WARN org.terrier.querying.SimpleDecorate - Problem performing decoration\n",
      "java.lang.IndexOutOfBoundsException: Index 8347 out of bounds for length 5486\n",
      "\tat java.base/jdk.internal.util.Preconditions.outOfBounds(Preconditions.java:64)\n",
      "\tat java.base/jdk.internal.util.Preconditions.outOfBoundsCheckIndex(Preconditions.java:70)\n",
      "\tat java.base/jdk.internal.util.Preconditions.checkIndex(Preconditions.java:266)\n",
      "\tat java.base/java.util.Objects.checkIndex(Objects.java:359)\n",
      "\tat java.base/java.util.ArrayList.get(ArrayList.java:427)\n",
      "\tat org.terrier.realtime.memory.MemoryMetaIndex.getItems(MemoryMetaIndex.java:162)\n",
      "\tat org.terrier.querying.SimpleDecorate.filter(SimpleDecorate.java:61)\n",
      "\tat org.terrier.querying.LocalManager$PostFilterProcess.process(LocalManager.java:811)\n",
      "\tat org.terrier.querying.LocalManager.runSearchRequest(LocalManager.java:895)\n",
      "11:27:52.010 [main] WARN org.terrier.querying.SimpleDecorate - Problem performing decoration\n",
      "java.lang.IndexOutOfBoundsException: Index 8408 out of bounds for length 5486\n",
      "\tat java.base/jdk.internal.util.Preconditions.outOfBounds(Preconditions.java:64)\n",
      "\tat java.base/jdk.internal.util.Preconditions.outOfBoundsCheckIndex(Preconditions.java:70)\n",
      "\tat java.base/jdk.internal.util.Preconditions.checkIndex(Preconditions.java:266)\n",
      "\tat java.base/java.util.Objects.checkIndex(Objects.java:359)\n",
      "\tat java.base/java.util.ArrayList.get(ArrayList.java:427)\n",
      "\tat org.terrier.realtime.memory.MemoryMetaIndex.getItems(MemoryMetaIndex.java:162)\n",
      "\tat org.terrier.querying.SimpleDecorate.filter(SimpleDecorate.java:61)\n",
      "\tat org.terrier.querying.LocalManager$PostFilterProcess.process(LocalManager.java:811)\n",
      "\tat org.terrier.querying.LocalManager.runSearchRequest(LocalManager.java:895)\n"
     ]
    },
    {
     "ename": "AssertionError",
     "evalue": "",
     "output_type": "error",
     "traceback": [
      "\u001b[1;31m---------------------------------------------------------------------------\u001b[0m",
      "\u001b[1;31mAssertionError\u001b[0m                            Traceback (most recent call last)",
      "Cell \u001b[1;32mIn[69], line 34\u001b[0m\n\u001b[0;32m     31\u001b[0m \u001b[38;5;28mprint\u001b[39m(\u001b[38;5;124m\"\u001b[39m\u001b[38;5;124mLenght of the val queries: \u001b[39m\u001b[38;5;124m\"\u001b[39m, \u001b[38;5;28mlen\u001b[39m(prepared_valqueries))\n\u001b[0;32m     32\u001b[0m \u001b[38;5;28mprint\u001b[39m(\u001b[38;5;124m\"\u001b[39m\u001b[38;5;124mLenght of the val qrels: \u001b[39m\u001b[38;5;124m\"\u001b[39m, \u001b[38;5;28mlen\u001b[39m(prepared_val_qrels))\n\u001b[1;32m---> 34\u001b[0m \u001b[43mpipeline\u001b[49m\u001b[38;5;241;43m.\u001b[39;49m\u001b[43mfit\u001b[49m\u001b[43m(\u001b[49m\n\u001b[0;32m     35\u001b[0m \u001b[43m    \u001b[49m\u001b[43mprepared_trainqueries\u001b[49m\u001b[43m,\u001b[49m\n\u001b[0;32m     36\u001b[0m \u001b[43m    \u001b[49m\u001b[43mprepared_train_qrels\u001b[49m\u001b[43m,\u001b[49m\u001b[43m  \u001b[49m\n\u001b[0;32m     37\u001b[0m \u001b[43m    \u001b[49m\u001b[43mprepared_valqueries\u001b[49m\u001b[43m,\u001b[49m\n\u001b[0;32m     38\u001b[0m \u001b[43m    \u001b[49m\u001b[43mprepared_val_qrels\u001b[49m\n\u001b[0;32m     39\u001b[0m \u001b[43m\u001b[49m\u001b[43m)\u001b[49m\n\u001b[0;32m     41\u001b[0m \u001b[38;5;28mprint\u001b[39m(\u001b[38;5;124m\"\u001b[39m\u001b[38;5;124mTraining done\u001b[39m\u001b[38;5;124m\"\u001b[39m)\n\u001b[0;32m     43\u001b[0m \u001b[38;5;66;03m# pt.Experiment(\u001b[39;00m\n\u001b[0;32m     44\u001b[0m \u001b[38;5;66;03m#     [pipeline],\u001b[39;00m\n\u001b[0;32m     45\u001b[0m \u001b[38;5;66;03m#     prepared_testqueries,\u001b[39;00m\n\u001b[1;32m   (...)\u001b[0m\n\u001b[0;32m     56\u001b[0m \u001b[38;5;66;03m#     eval_metrics=eval_metrics,\u001b[39;00m\n\u001b[0;32m     57\u001b[0m \u001b[38;5;66;03m# ).to_csv(f\"experiments/{dataset_choice}/train/{name}.csv\")\u001b[39;00m\n",
      "File \u001b[1;32mc:\\Users\\chrys\\Documents\\CSE\\MASTERS\\Q3\\Information Retrieval\\moment_retrieval\\moment_retrieval\\ir-python-env\\Lib\\site-packages\\pyterrier\\ops.py:348\u001b[0m, in \u001b[0;36mComposedPipeline.fit\u001b[1;34m(self, topics_or_res_tr, qrels_tr, topics_or_res_va, qrels_va)\u001b[0m\n\u001b[0;32m    346\u001b[0m     m\u001b[38;5;241m.\u001b[39mfit(topics_or_res_tr, qrels_tr, topics_or_res_va, qrels_va)\n\u001b[0;32m    347\u001b[0m \u001b[38;5;28;01melse\u001b[39;00m:\n\u001b[1;32m--> 348\u001b[0m     topics_or_res_tr \u001b[38;5;241m=\u001b[39m \u001b[43mm\u001b[49m\u001b[38;5;241;43m.\u001b[39;49m\u001b[43mtransform\u001b[49m\u001b[43m(\u001b[49m\u001b[43mtopics_or_res_tr\u001b[49m\u001b[43m)\u001b[49m\n\u001b[0;32m    349\u001b[0m     \u001b[38;5;66;03m# validation is optional for some learners\u001b[39;00m\n\u001b[0;32m    350\u001b[0m     \u001b[38;5;28;01mif\u001b[39;00m topics_or_res_va \u001b[38;5;129;01mis\u001b[39;00m \u001b[38;5;129;01mnot\u001b[39;00m \u001b[38;5;28;01mNone\u001b[39;00m:\n",
      "File \u001b[1;32mc:\\Users\\chrys\\Documents\\CSE\\MASTERS\\Q3\\Information Retrieval\\moment_retrieval\\moment_retrieval\\ir-python-env\\Lib\\site-packages\\pyterrier\\ops.py:335\u001b[0m, in \u001b[0;36mComposedPipeline.transform\u001b[1;34m(self, topics)\u001b[0m\n\u001b[0;32m    333\u001b[0m \u001b[38;5;28;01mdef\u001b[39;00m \u001b[38;5;21mtransform\u001b[39m(\u001b[38;5;28mself\u001b[39m, topics):\n\u001b[0;32m    334\u001b[0m     \u001b[38;5;28;01mfor\u001b[39;00m m \u001b[38;5;129;01min\u001b[39;00m \u001b[38;5;28mself\u001b[39m\u001b[38;5;241m.\u001b[39mmodels:\n\u001b[1;32m--> 335\u001b[0m         topics \u001b[38;5;241m=\u001b[39m \u001b[43mm\u001b[49m\u001b[38;5;241;43m.\u001b[39;49m\u001b[43mtransform\u001b[49m\u001b[43m(\u001b[49m\u001b[43mtopics\u001b[49m\u001b[43m)\u001b[49m\n\u001b[0;32m    336\u001b[0m     \u001b[38;5;28;01mreturn\u001b[39;00m topics\n",
      "File \u001b[1;32mc:\\Users\\chrys\\Documents\\CSE\\MASTERS\\Q3\\Information Retrieval\\moment_retrieval\\moment_retrieval\\ir-python-env\\Lib\\site-packages\\pyterrier\\ops.py:227\u001b[0m, in \u001b[0;36mFeatureUnionPipeline.transform\u001b[1;34m(self, inputRes)\u001b[0m\n\u001b[0;32m    223\u001b[0m all_results \u001b[38;5;241m=\u001b[39m []\n\u001b[0;32m    225\u001b[0m \u001b[38;5;28;01mfor\u001b[39;00m i, m \u001b[38;5;129;01min\u001b[39;00m \u001b[38;5;28menumerate\u001b[39m(\u001b[38;5;28mself\u001b[39m\u001b[38;5;241m.\u001b[39mmodels):\n\u001b[0;32m    226\u001b[0m     \u001b[38;5;66;03m#IMPORTANT this .copy() is important, in case an operand transformer changes inputRes\u001b[39;00m\n\u001b[1;32m--> 227\u001b[0m     results \u001b[38;5;241m=\u001b[39m \u001b[43mm\u001b[49m\u001b[38;5;241;43m.\u001b[39;49m\u001b[43mtransform\u001b[49m\u001b[43m(\u001b[49m\u001b[43minputRes\u001b[49m\u001b[38;5;241;43m.\u001b[39;49m\u001b[43mcopy\u001b[49m\u001b[43m(\u001b[49m\u001b[43m)\u001b[49m\u001b[43m)\u001b[49m\n\u001b[0;32m    228\u001b[0m     \u001b[38;5;28;01mif\u001b[39;00m \u001b[38;5;28mlen\u001b[39m(results) \u001b[38;5;241m==\u001b[39m \u001b[38;5;241m0\u001b[39m \u001b[38;5;129;01mand\u001b[39;00m num_results \u001b[38;5;241m!=\u001b[39m \u001b[38;5;241m0\u001b[39m:\n\u001b[0;32m    229\u001b[0m         \u001b[38;5;28;01mraise\u001b[39;00m \u001b[38;5;167;01mValueError\u001b[39;00m(\u001b[38;5;124m\"\u001b[39m\u001b[38;5;124mGot no results from \u001b[39m\u001b[38;5;132;01m%s\u001b[39;00m\u001b[38;5;124m, expected \u001b[39m\u001b[38;5;132;01m%d\u001b[39;00m\u001b[38;5;124m\"\u001b[39m \u001b[38;5;241m%\u001b[39m (\u001b[38;5;28mrepr\u001b[39m(m), num_results) )\n",
      "File \u001b[1;32mc:\\Users\\chrys\\Documents\\CSE\\MASTERS\\Q3\\Information Retrieval\\moment_retrieval\\moment_retrieval\\ir-python-env\\Lib\\site-packages\\pyterrier\\batchretrieve.py:441\u001b[0m, in \u001b[0;36mBatchRetrieve.transform\u001b[1;34m(self, queries)\u001b[0m\n\u001b[0;32m    439\u001b[0m         \u001b[38;5;28miter\u001b[39m \u001b[38;5;241m=\u001b[39m tqdm(\u001b[38;5;28miter\u001b[39m, desc\u001b[38;5;241m=\u001b[39m\u001b[38;5;28mstr\u001b[39m(\u001b[38;5;28mself\u001b[39m), total\u001b[38;5;241m=\u001b[39mqueries\u001b[38;5;241m.\u001b[39mshape[\u001b[38;5;241m0\u001b[39m], unit\u001b[38;5;241m=\u001b[39m\u001b[38;5;124m\"\u001b[39m\u001b[38;5;124mq\u001b[39m\u001b[38;5;124m\"\u001b[39m)\n\u001b[0;32m    440\u001b[0m     \u001b[38;5;28;01mfor\u001b[39;00m row \u001b[38;5;129;01min\u001b[39;00m \u001b[38;5;28miter\u001b[39m:\n\u001b[1;32m--> 441\u001b[0m         res \u001b[38;5;241m=\u001b[39m \u001b[38;5;28;43mself\u001b[39;49m\u001b[38;5;241;43m.\u001b[39;49m\u001b[43m_retrieve_one\u001b[49m\u001b[43m(\u001b[49m\u001b[43mrow\u001b[49m\u001b[43m,\u001b[49m\u001b[43m \u001b[49m\u001b[43minput_results\u001b[49m\u001b[43m,\u001b[49m\u001b[43m \u001b[49m\u001b[43mdocno_provided\u001b[49m\u001b[38;5;241;43m=\u001b[39;49m\u001b[43mdocno_provided\u001b[49m\u001b[43m,\u001b[49m\u001b[43m \u001b[49m\u001b[43mdocid_provided\u001b[49m\u001b[38;5;241;43m=\u001b[39;49m\u001b[43mdocid_provided\u001b[49m\u001b[43m,\u001b[49m\u001b[43m \u001b[49m\u001b[43mscores_provided\u001b[49m\u001b[38;5;241;43m=\u001b[39;49m\u001b[43mscores_provided\u001b[49m\u001b[43m)\u001b[49m\n\u001b[0;32m    442\u001b[0m         results\u001b[38;5;241m.\u001b[39mextend(res)\n\u001b[0;32m    444\u001b[0m res_dt \u001b[38;5;241m=\u001b[39m pd\u001b[38;5;241m.\u001b[39mDataFrame(results, columns\u001b[38;5;241m=\u001b[39m[\u001b[38;5;124m'\u001b[39m\u001b[38;5;124mqid\u001b[39m\u001b[38;5;124m'\u001b[39m, \u001b[38;5;124m'\u001b[39m\u001b[38;5;124mdocid\u001b[39m\u001b[38;5;124m'\u001b[39m ] \u001b[38;5;241m+\u001b[39m \u001b[38;5;28mself\u001b[39m\u001b[38;5;241m.\u001b[39mmetadata \u001b[38;5;241m+\u001b[39m [\u001b[38;5;124m'\u001b[39m\u001b[38;5;124mrank\u001b[39m\u001b[38;5;124m'\u001b[39m, \u001b[38;5;124m'\u001b[39m\u001b[38;5;124mscore\u001b[39m\u001b[38;5;124m'\u001b[39m])\n",
      "File \u001b[1;32mc:\\Users\\chrys\\Documents\\CSE\\MASTERS\\Q3\\Information Retrieval\\moment_retrieval\\moment_retrieval\\ir-python-env\\Lib\\site-packages\\pyterrier\\batchretrieve.py:361\u001b[0m, in \u001b[0;36mBatchRetrieve._retrieve_one\u001b[1;34m(self, row, input_results, docno_provided, docid_provided, scores_provided)\u001b[0m\n\u001b[0;32m    357\u001b[0m     \u001b[38;5;28;01mraise\u001b[39;00m \u001b[38;5;167;01mKeyError\u001b[39;00m(\u001b[38;5;124m\"\u001b[39m\u001b[38;5;124mMismatch between requested and available metadata in \u001b[39m\u001b[38;5;132;01m%s\u001b[39;00m\u001b[38;5;124m. Requested metadata: \u001b[39m\u001b[38;5;132;01m%s\u001b[39;00m\u001b[38;5;124m, available metadata \u001b[39m\u001b[38;5;132;01m%s\u001b[39;00m\u001b[38;5;124m\"\u001b[39m \u001b[38;5;241m%\u001b[39m \n\u001b[0;32m    358\u001b[0m         (\u001b[38;5;28mstr\u001b[39m(\u001b[38;5;28mself\u001b[39m\u001b[38;5;241m.\u001b[39mindexref), \u001b[38;5;28mstr\u001b[39m(\u001b[38;5;28mself\u001b[39m\u001b[38;5;241m.\u001b[39mmetadata), \u001b[38;5;28mstr\u001b[39m(result\u001b[38;5;241m.\u001b[39mgetMetaKeys()))) \n\u001b[0;32m    360\u001b[0m \u001b[38;5;28;01mif\u001b[39;00m num_expected \u001b[38;5;129;01mis\u001b[39;00m \u001b[38;5;129;01mnot\u001b[39;00m \u001b[38;5;28;01mNone\u001b[39;00m:\n\u001b[1;32m--> 361\u001b[0m     \u001b[38;5;28;01massert\u001b[39;00m(num_expected \u001b[38;5;241m==\u001b[39m \u001b[38;5;28mlen\u001b[39m(result))\n\u001b[0;32m    363\u001b[0m rtr_rows\u001b[38;5;241m=\u001b[39m[]\n\u001b[0;32m    364\u001b[0m \u001b[38;5;66;03m# prepare the dataframe for the results of the query\u001b[39;00m\n",
      "\u001b[1;31mAssertionError\u001b[0m: "
     ]
    }
   ],
   "source": [
    "import os\n",
    "'''\n",
    "Try all possible combinations of \n",
    "- First stage retrieval models (first_stage_retrieval_list)\n",
    "- Feature combinations  (feature_combinations)\n",
    "- Learned models  (learned_models)\n",
    "'''\n",
    "\n",
    "print(\"Dataset choice: \", dataset_choice)\n",
    "\n",
    "for fsr_alg in first_stage_retrieval_list:    #  3\n",
    "    for i, feature_comb in enumerate(feature_combinations):\n",
    "        print(\"Length of feature_combinations:\", len(feature_combinations))  # Add logging\n",
    "\n",
    "        for model in learned_models:\n",
    "            # combine the features with ** operator\n",
    "            name = fsr_alg.controls[\"wmodel\"] + f\"_{i}_\" + f\"{model['name']}\"\n",
    "            print(\"Name of configuration: \", name)\n",
    "\n",
    "            # if the file already exists, skip the training\n",
    "            if os.path.exists(f\"experiments/{dataset_choice}/test/{name}.csv\") and os.path.exists(f\"experiments/{dataset_choice}/train/{name}.csv\"):\n",
    "                print(\"File already exists\")\n",
    "                continue\n",
    "            \n",
    "            fsr = ~fsr_alg >> (feature_comb)    \n",
    "            \n",
    "            pipeline = fsr >> pt.ltr.apply_learned_model(model['model'], form=model['form'])\n",
    "\n",
    "            pipeline.fit(\n",
    "                prepared_trainqueries,\n",
    "                prepared_train_qrels,  \n",
    "                prepared_valqueries,\n",
    "                prepared_val_qrels\n",
    "            )\n",
    "\n",
    "            print(\"Training done\")\n",
    "\n",
    "            pt.Experiment(\n",
    "                [pipeline],\n",
    "                prepared_testqueries,\n",
    "                prepared_test_qrels,\n",
    "                names=[name],\n",
    "                eval_metrics=eval_metrics,\n",
    "            ).to_csv(f\"experiments/{dataset_choice}/test/{name}.csv\")\n",
    "\n",
    "            pt.Experiment(\n",
    "                [pipeline],\n",
    "                prepared_trainqueries.sample(frac=0.1, random_state=42),  # select the 10% of the train set\n",
    "                prepared_train_qrels,   \n",
    "                names=[name],\n",
    "                eval_metrics=eval_metrics,\n",
    "            ).to_csv(f\"experiments/{dataset_choice}/train/{name}.csv\")\n",
    "\n",
    "            print(\"Experiments done\")\n"
   ]
  }
 ],
 "metadata": {
  "colab": {
   "provenance": []
  },
  "kaggle": {
   "accelerator": "none",
   "dataSources": [
    {
     "datasetId": 4694824,
     "sourceId": 7977303,
     "sourceType": "datasetVersion"
    }
   ],
   "dockerImageVersionId": 30664,
   "isGpuEnabled": false,
   "isInternetEnabled": true,
   "language": "python",
   "sourceType": "notebook"
  },
  "kernelspec": {
   "display_name": "Python 3",
   "language": "python",
   "name": "python3"
  },
  "language_info": {
   "codemirror_mode": {
    "name": "ipython",
    "version": 3
   },
   "file_extension": ".py",
   "mimetype": "text/x-python",
   "name": "python",
   "nbconvert_exporter": "python",
   "pygments_lexer": "ipython3",
   "version": "3.11.5"
  }
 },
 "nbformat": 4,
 "nbformat_minor": 4
}
